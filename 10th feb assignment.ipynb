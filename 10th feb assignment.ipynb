{
 "cells": [
  {
   "cell_type": "markdown",
   "id": "4443b93d-ca32-4e16-87b9-ba5b975b6521",
   "metadata": {},
   "source": [
    "Q1. Which function is used to open a file? What are the different modes of opening a file? Explain each mode\n",
    "of file opening."
   ]
  },
  {
   "cell_type": "raw",
   "id": "e66cb11e-8cbc-458d-b4a9-0ff05ec262d7",
   "metadata": {},
   "source": [
    "The different modes of opening a file are as follows:\n",
    "\n",
    "Read Mode ('r'): This is the default mode. It opens the file for reading. If the file does not exist or cannot be opened for any reason, it raises a FileNotFoundError. This mode allows you to read the contents of the file, but you cannot write or modify the file.\n",
    "\n",
    "Write Mode ('w'): This mode opens the file for writing. If the file already exists, it is truncated (i.e., its contents are deleted) and a new empty file is created. If the file does not exist, a new empty file is created. You can write data to the file using methods like write().\n",
    "\n",
    "Append Mode ('a'): This mode opens the file for appending. If the file already exists, new data is written at the end of the file. If the file does not exist, a new empty file is created. You can use methods like write() to append data to the file.\n",
    "\n",
    "Read and Write Mode ('r+'): This mode opens the file for both reading and writing. The file pointer is placed at the beginning of the file. You can read from and write to the file using methods like read(), write(), seek(), etc.\n",
    "\n",
    "Write and Read Mode ('w+'): This mode opens the file for reading and writing. If the file already exists, its contents are truncated and a new empty file is created. If the file does not exist, a new empty file is created. You can read from and write to the file.\n",
    "\n",
    "Append and Read Mode ('a+'): This mode opens the file for reading and appending. The file pointer is placed at the end of the file. You can read from and append data to the file.\n",
    "\n",
    "Binary Mode ('b'): This mode is used in conjunction with other modes to indicate that the file should be opened in binary mode. For example, 'rb' indicates reading a binary file, 'wb' indicates writing a binary file, and so on. Binary mode is used to handle non-text files like images, audio, video, etc."
   ]
  },
  {
   "cell_type": "code",
   "execution_count": null,
   "id": "9788e601-074c-4819-ad5c-4337b8dd4e2f",
   "metadata": {},
   "outputs": [],
   "source": []
  },
  {
   "cell_type": "markdown",
   "id": "6e279f4a-50e0-4918-885b-9a7aae673e06",
   "metadata": {},
   "source": [
    "Q2. Why close() function is used? Why is it important to close a file?"
   ]
  },
  {
   "cell_type": "raw",
   "id": "77819c03-a828-4beb-b75e-83887e53b8e1",
   "metadata": {},
   "source": [
    "The close() function in Python is used to close a file object. It's important to close a file after you've finished using it for several reasons:\n",
    "\n",
    "Resource Management: When you open a file in Python, the operating system allocates resources (such as file handles) to the file object. If you keep files open unnecessarily, you may exhaust system resources, especially if you're working with a large number of files or running a long-lived application.\n",
    "\n",
    "Data Integrity: Closing a file ensures that all data that was buffered (i.e., temporarily stored in memory) is written to the file before it's closed. If you don't close a file properly, changes you made to the file might not be saved, leading to data loss or corruption.\n",
    "\n",
    "File Locking: On some operating systems, files may be locked when they are opened, preventing other processes from accessing or modifying them. Closing the file releases the lock, allowing other processes to work with the file.\n",
    "\n",
    "Good Programming Practice: Closing files when you're done with them is considered good programming practice. It helps keep your code clean and organized, and makes it easier to manage resources."
   ]
  },
  {
   "cell_type": "code",
   "execution_count": null,
   "id": "d1ed3e96-6cbf-4df4-b667-a4efbc564e87",
   "metadata": {},
   "outputs": [],
   "source": []
  },
  {
   "cell_type": "markdown",
   "id": "b4c38614-c4df-471b-9f91-458e020fad56",
   "metadata": {},
   "source": [
    "Q3. Write a python program to create a text file. Write ‘I want to become a Data Scientist’ in that file. Then\n",
    "close the file. Open this file and read the content of the file."
   ]
  },
  {
   "cell_type": "code",
   "execution_count": 1,
   "id": "a3ff3031-a286-46f2-b720-e3ffe3b4b126",
   "metadata": {},
   "outputs": [
    {
     "name": "stdout",
     "output_type": "stream",
     "text": [
      "Content of the file:\n",
      "I want to become a Data Scientist\n"
     ]
    }
   ],
   "source": [
    "#code\n",
    "with open('data_scientist.txt', 'w') as file:\n",
    "    file.write('I want to become a Data Scientist')\n",
    "\n",
    "with open('data_scientist.txt', 'r') as file:\n",
    "    content = file.read()\n",
    "    print(\"Content of the file:\")\n",
    "    print(content)\n"
   ]
  },
  {
   "cell_type": "code",
   "execution_count": null,
   "id": "37514569-4ae9-48df-8a86-d4c9fd0810c6",
   "metadata": {},
   "outputs": [],
   "source": []
  },
  {
   "cell_type": "markdown",
   "id": "1928e89f-f2dd-4f86-ad31-f3f36392d710",
   "metadata": {},
   "source": [
    "Q4. Explain the following with python code: read(), readline() and readlines()."
   ]
  },
  {
   "cell_type": "raw",
   "id": "907ae1d3-c6b8-4df4-a2ef-e24828211520",
   "metadata": {},
   "source": [
    "1) read():\n",
    "\n",
    "The read() method reads the entire content of the file and returns it as a string.\n",
    "If you specify a size argument, it will read at most that many characters.\n",
    "If you call read() again, it will continue reading from where it left off.\n",
    "If the end of the file has been reached, read() returns an empty string.\n",
    "\n",
    "#Example:\n",
    "with open('example.txt', 'r') as file:\n",
    "    content = file.read()\n",
    "    print(content)\n",
    "\n",
    "2) readline():\n",
    "The readline() method reads a single line from the file.\n",
    "It reads characters from the current file position until it encounters a newline character ('\\n') or reaches the end of the file.\n",
    "If the end of the file has been reached, readline() returns an empty string.\n",
    "\n",
    "#Example:\n",
    "with open('example.txt', 'r') as file:\n",
    "    line1 = file.readline()\n",
    "    line2 = file.readline()\n",
    "    print(\"Line 1:\", line1)\n",
    "    print(\"Line 2:\", line2)\n",
    "\n",
    "3) readlines():\n",
    "The readlines() method reads all lines from the file and returns them as a list of strings.\n",
    "Each string in the list represents a single line from the file, including the newline character ('\\n').\n",
    "If the end of the file has been reached, readlines() returns an empty list.\n",
    "\n",
    "#Example:\n",
    "with open('example.txt', 'r') as file:\n",
    "    lines = file.readlines()\n",
    "    for line in lines:\n",
    "        print(line.strip())  # Strip newline character before printing\n",
    "\n",
    "\n",
    "\n"
   ]
  },
  {
   "cell_type": "markdown",
   "id": "3db31194-a97a-4003-b836-d11cc6cec1be",
   "metadata": {},
   "source": [
    "e2)\r\n",
    "mple:"
   ]
  },
  {
   "cell_type": "markdown",
   "id": "e86f338c-f903-465c-b546-ab9dcc5379ef",
   "metadata": {},
   "source": [
    "Q5. Explain why with statement is used with open(). What is the advantage of using with statement and\n",
    "open() together?"
   ]
  },
  {
   "cell_type": "raw",
   "id": "e3a7b815-2c27-41b9-9cf7-367ccb2796cd",
   "metadata": {},
   "source": [
    "Automatic Resource Management:\n",
    "When you open a file using the open() function without the with statement, you need to remember to close the file explicitly using the close() method when you are done with it.\n",
    "However, using the with statement, Python automatically closes the file for you when the block of code inside the with statement finishes execution, regardless of whether an exception occurs or not.\n",
    "This ensures that file resources are properly released and prevents resource leaks, especially in scenarios where exceptions may occur."
   ]
  },
  {
   "cell_type": "code",
   "execution_count": null,
   "id": "8e6cee09-1dcb-45e4-b8f9-35d9c63e679c",
   "metadata": {},
   "outputs": [],
   "source": [
    "#code\n",
    "\n",
    "file = open('example.txt', 'r')\n",
    "content = file.read()\n",
    "file.close()  \n",
    "\n",
    "with open('example.txt', 'r') as file:\n",
    "    content = file.read()\n"
   ]
  },
  {
   "cell_type": "code",
   "execution_count": null,
   "id": "fff756aa-fa0a-4f00-aa60-0c686bd8ef05",
   "metadata": {},
   "outputs": [],
   "source": []
  },
  {
   "cell_type": "markdown",
   "id": "0c88edc9-b197-4603-8c66-42148e4c17e1",
   "metadata": {},
   "source": [
    "Q6. Explain the write() and writelines() functions. Give a suitable example."
   ]
  },
  {
   "cell_type": "raw",
   "id": "9c76b629-029f-4c13-9f0a-0c18e0fb3718",
   "metadata": {},
   "source": [
    "1) write():\n",
    "\n",
    "The write() function is used to write a string to the file.\n",
    "It takes a single argument, which is the string to be written to the file.\n",
    "If the file is opened in text mode ('t'), the argument must be a string. If the file is opened in binary mode ('b'), the argument must be a bytes-like object.\n",
    "After writing the string to the file, the file pointer moves to the end of the written content.\n",
    "If the file does not exist, it will be created. If it already exists, the content will be overwritten.\n",
    "    \n",
    "Example:\n",
    "with open('output.txt', 'w') as file:\n",
    "    file.write('Hello, World!\\n')\n",
    "    file.write('This is a new line.')\n",
    "\n",
    "\n",
    "2) writelines():\n",
    "\n",
    "The writelines() function is used to write a list of strings to the file.\n",
    "It takes a single argument, which is an iterable containing strings (such as a list).\n",
    "Each string in the iterable is written to the file sequentially.\n",
    "Like write(), if the file is opened in text mode ('t'), the argument must be a string. If the file is opened in binary mode ('b'), the argument must be a bytes-like object.\n",
    "After writing all the strings, the file pointer moves to the end of the written content.\n",
    "If the file does not exist, it will be created. If it already exists, the content will be overwritten.\n",
    "\n",
    "Example:\n",
    "lines = ['Line 1\\n', 'Line 2\\n', 'Line 3\\n']\n",
    "with open('output.txt', 'w') as file:\n",
    "    file.writelines(lines)\n"
   ]
  },
  {
   "cell_type": "code",
   "execution_count": null,
   "id": "bff30115-dfa3-4862-96bc-3a5b6ed7b05b",
   "metadata": {},
   "outputs": [],
   "source": []
  }
 ],
 "metadata": {
  "kernelspec": {
   "display_name": "Python 3 (ipykernel)",
   "language": "python",
   "name": "python3"
  },
  "language_info": {
   "codemirror_mode": {
    "name": "ipython",
    "version": 3
   },
   "file_extension": ".py",
   "mimetype": "text/x-python",
   "name": "python",
   "nbconvert_exporter": "python",
   "pygments_lexer": "ipython3",
   "version": "3.11.5"
  }
 },
 "nbformat": 4,
 "nbformat_minor": 5
}
